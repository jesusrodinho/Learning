{
  "nbformat": 4,
  "nbformat_minor": 0,
  "metadata": {
    "colab": {
      "provenance": [],
      "authorship_tag": "ABX9TyPztK/THKpGrCDPJHlWreQU",
      "include_colab_link": true
    },
    "kernelspec": {
      "name": "python3",
      "display_name": "Python 3"
    },
    "language_info": {
      "name": "python"
    }
  },
  "cells": [
    {
      "cell_type": "markdown",
      "metadata": {
        "id": "view-in-github",
        "colab_type": "text"
      },
      "source": [
        "<a href=\"https://colab.research.google.com/github/jesusrodinho/desktop-tutorial/blob/main/Temas_evaluaci%C3%B3n.ipynb\" target=\"_parent\"><img src=\"https://colab.research.google.com/assets/colab-badge.svg\" alt=\"Open In Colab\"/></a>"
      ]
    },
    {
      "cell_type": "markdown",
      "source": [
        "#Esctructuras de control\n",
        "##Temas a evaluar : condicionales y Ciclos\n",
        "***\n",
        "##Estructuras selectivas\n",
        "Se utilizan para controlar el orden en que se ejecutan las sentencias de un programa (toma de decisiones logicas)."
      ],
      "metadata": {
        "id": "qPBYkfZ_tYmI"
      }
    },
    {
      "cell_type": "code",
      "source": [
        "a = float(input(\"ingresa un numero: \"))\n",
        "b = float(input(\"ingresa un numero: \"))\n",
        "\n",
        "if a != 0:\n",
        "   x = (-b) / (a)\n",
        "else:\n",
        " if a == 0 and b != 0:\n",
        "  print(\"Solución imposible\")\n",
        " else:\n",
        "  print(\"Solución indeterminada\")"
      ],
      "metadata": {
        "colab": {
          "base_uri": "https://localhost:8080/"
        },
        "id": "tuqMs_Phu4L2",
        "outputId": "f7ae0d9a-d88b-474b-a996-f54e17e823b3"
      },
      "execution_count": 24,
      "outputs": [
        {
          "output_type": "stream",
          "name": "stdout",
          "text": [
            "ingresa un numero: 0\n",
            "ingresa un numero: 2\n",
            "Solución imposible\n"
          ]
        }
      ]
    },
    {
      "cell_type": "markdown",
      "source": [
        "##Ejercicio 2"
      ],
      "metadata": {
        "id": "BrrX1FHV4_if"
      }
    },
    {
      "cell_type": "code",
      "source": [
        "#Calcular_Salario\n",
        "(TASA_TARIFA_EXTRA) = 0.5\n",
        "(IMP_BASE) = 0.2\n",
        "(IMP_EXTRA) = 0.3\n",
        "(name) = str(input(\"ingrese su nombre: \"))\n",
        "(horas) = float(input(\"ingrese horas: \"))\n",
        "(tarifa) = float(input(\"ingrese tarifa: \"))\n",
        "\n",
        "if (horas) <= 35\n",
        "  then (salario_bruto) = (horas) * (tarifa)\n",
        "else:\n",
        "  if (horas_extra) = (horas) - 35\n",
        "  (tarifa_extra) = (tarifa) * (1 + (TASA_TARIFA_EXTRA))\n",
        "  (salario_bruto) = (tarifa) * 35 + (horas extra) * (tarifa_extra)\n",
        "  else:\n",
        "\n",
        "\n"
      ],
      "metadata": {
        "id": "Jv_59B2y5EFR"
      },
      "execution_count": null,
      "outputs": []
    },
    {
      "cell_type": "code",
      "source": [],
      "metadata": {
        "id": "M8YgB5YD-KPc"
      },
      "execution_count": null,
      "outputs": []
    },
    {
      "cell_type": "markdown",
      "source": [
        "#Ejercicio 3\n",
        "Determine el mayor entre 3 números ingresados\n"
      ],
      "metadata": {
        "id": "0Z1ojqxn_c2F"
      }
    },
    {
      "cell_type": "code",
      "source": [
        "a = float(input(\"ingresa un numero: \"))\n",
        "b = float(input(\"ingresa un numero: \"))\n",
        "\n",
        "if a != 0:\n",
        "   x = (-b) / (a)\n",
        "else:\n",
        " if a == 0 and b != 0:\n",
        "  print(\"Solución imposible\")\n",
        " else:\n",
        "  print(\"Solución indeterminada\")"
      ],
      "metadata": {
        "id": "qFPNmDZd_fT9"
      },
      "execution_count": null,
      "outputs": []
    },
    {
      "cell_type": "markdown",
      "source": [
        "#Python statements\n",
        "\n"
      ],
      "metadata": {
        "id": "C1vaqqzXDYBO"
      }
    }
  ]
}