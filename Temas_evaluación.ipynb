{
  "nbformat": 4,
  "nbformat_minor": 0,
  "metadata": {
    "colab": {
      "provenance": [],
      "authorship_tag": "ABX9TyOmmPWTu4wsfEhHIbkSdLOr",
      "include_colab_link": true
    },
    "kernelspec": {
      "name": "python3",
      "display_name": "Python 3"
    },
    "language_info": {
      "name": "python"
    }
  },
  "cells": [
    {
      "cell_type": "markdown",
      "metadata": {
        "id": "view-in-github",
        "colab_type": "text"
      },
      "source": [
        "<a href=\"https://colab.research.google.com/github/jesusrodinho/Learning/blob/main/Temas_evaluaci%C3%B3n.ipynb\" target=\"_parent\"><img src=\"https://colab.research.google.com/assets/colab-badge.svg\" alt=\"Open In Colab\"/></a>"
      ]
    },
    {
      "cell_type": "markdown",
      "source": [
        "#Esctructuras de control\n",
        "##Temas a evaluar : condicionales y Ciclos\n",
        "***\n",
        "##Estructuras selectivas\n",
        "Se utilizan para controlar el orden en que se ejecutan las sentencias de un programa (toma de decisiones logicas)."
      ],
      "metadata": {
        "id": "qPBYkfZ_tYmI"
      }
    },
    {
      "cell_type": "markdown",
      "source": [
        "##Ejercicio 2"
      ],
      "metadata": {
        "id": "BrrX1FHV4_if"
      }
    },
    {
      "cell_type": "code",
      "source": [
        "#Calcular_Salario\n",
        "(TASA_TARIFA_EXTRA) = 0.5\n",
        "(IMP_BASE) = 0.2\n",
        "(IMP_EXTRA) = 0.3\n",
        "(name) = str(input(\"ingrese su nombre: \"))\n",
        "(horas) = float(input(\"ingrese horas: \"))\n",
        "(tarifa) = float(input(\"ingrese tarifa: \"))\n",
        "\n",
        "if (horas) <= 35 :\n",
        "   (salario_bruto) = (horas) * (tarifa)\n",
        "else:\n",
        "  (horas_extra) = (horas) - 35\n",
        "  (tarifa_extra) = (tarifa) * (1 + TASA_TARIFA_EXTRA)\n",
        "  (salario_bruto) = (tarifa) * 35 + (horas_extra * tarifa_extra)\n",
        "\n",
        "if salario_bruto <= 2200:\n",
        "   (impuesto) = 0\n",
        "else:\n",
        "  if (salario_bruto) <= 2420 :\n",
        "     (impuesto) = 220 * (IMP_BASE)\n",
        "  else:\n",
        "    (impuesto) = 220 * (IMP_BASE) + (salario_bruto - 2420) * (IMP_EXTRA)\n",
        "(salario_neto) = (salario_bruto) - (impuesto)\n",
        "print(f\"El trabajador {name} debe recibir ${salario_neto}\")"
      ],
      "metadata": {
        "id": "Jv_59B2y5EFR",
        "outputId": "a77b2e66-ed27-460d-cf55-424f986de7ca",
        "colab": {
          "base_uri": "https://localhost:8080/"
        }
      },
      "execution_count": 7,
      "outputs": [
        {
          "output_type": "stream",
          "name": "stdout",
          "text": [
            "ingrese su nombre: Jesus\n",
            "ingrese horas: 40\n",
            "ingrese tarifa: 50\n",
            "El trabajador Jesus debe recibir $2125.0\n"
          ]
        }
      ]
    },
    {
      "cell_type": "markdown",
      "source": [
        "#Python statements\n",
        "\n"
      ],
      "metadata": {
        "id": "C1vaqqzXDYBO"
      }
    },
    {
      "cell_type": "code",
      "source": [
        "#Elif\n",
        "score = 65\n",
        "if score > 90 :\n",
        "  print(\"Excelente\")\n",
        "elif score > 60 :\n",
        "  print(\"bien hecho\")\n",
        "else :\n",
        "  print(\"puede mejorar\")"
      ],
      "metadata": {
        "id": "N21-P6yzLLYR",
        "outputId": "a8134fd7-16f3-41aa-ac8f-e79eedac6c38",
        "colab": {
          "base_uri": "https://localhost:8080/"
        }
      },
      "execution_count": 1,
      "outputs": [
        {
          "output_type": "stream",
          "name": "stdout",
          "text": [
            "bien hecho\n"
          ]
        }
      ]
    },
    {
      "cell_type": "markdown",
      "source": [
        "#Ejercicios python statements\n"
      ],
      "metadata": {
        "id": "_woxfEmtNR0A"
      }
    },
    {
      "cell_type": "code",
      "source": [
        "# a = 0\n",
        "# b = 0\n",
        "\n",
        "a = float(input(\"Ingrese un numero: \"))\n",
        "b = float(input(\"Ingrese un numero: \"))\n",
        "\n",
        "if a != 0:\n",
        "  x = -b / a\n",
        "  print(x)\n",
        "else:\n",
        "  if b != 0:\n",
        "   print(\"solucion imposible\")\n",
        "  else:\n",
        "    print(\"solucion indeterminada\")"
      ],
      "metadata": {
        "id": "CdFwEIXXNawo",
        "outputId": "39600401-eb0b-4ad8-fb57-4ae79952180a",
        "colab": {
          "base_uri": "https://localhost:8080/"
        }
      },
      "execution_count": 11,
      "outputs": [
        {
          "output_type": "stream",
          "name": "stdout",
          "text": [
            "Ingrese un numero: 5\n",
            "Ingrese un numero: 3\n",
            "-0.6\n"
          ]
        }
      ]
    },
    {
      "cell_type": "code",
      "source": [
        "#Program_Mayor\n",
        "a = float(input(\"Ingrese un numero: \"))\n",
        "b = float(input(\"Ingrese un numero: \"))\n",
        "c = float(input(\"Ingrese un numero: \"))\n",
        "if a > b :\n",
        "  if a > c :\n",
        "    (mayor) = a\n",
        "else:\n",
        "    if b > c :\n",
        "      (mayor) = b\n",
        "    else:\n",
        "      (mayor) = c\n",
        "print(f\"El numero mayor es {mayor}\")"
      ],
      "metadata": {
        "id": "FU1g51_URpJO",
        "outputId": "86bde675-f481-41f9-9729-182ca76fbe34",
        "colab": {
          "base_uri": "https://localhost:8080/"
        }
      },
      "execution_count": 10,
      "outputs": [
        {
          "output_type": "stream",
          "name": "stdout",
          "text": [
            "Ingrese un numero: 5\n",
            "Ingrese un numero: 8\n",
            "Ingrese un numero: 6\n",
            "El numero mayor es 8.0\n"
          ]
        }
      ]
    },
    {
      "cell_type": "code",
      "source": [
        "#Program_Ordena_Numeros\n",
        "a = int(input(\"Ingrese un numero: \"))\n",
        "b = int(input(\"Ingrese un numero: \"))\n",
        "c = int(input(\"Ingrese un numero: \"))\n",
        "\n",
        "if a > b :\n",
        "  if b > c:\n",
        "    print(a, b, c)\n",
        "  else:\n",
        "    if c > a:\n",
        "      print(c, a, b)\n",
        "    else:\n",
        "      print(a, c, b)\n",
        "else:\n",
        "  if a > c:\n",
        "    print(b, a, c)\n",
        "  else:\n",
        "    if c > b:\n",
        "      print(c, b, a)\n",
        "    else:\n",
        "      print(b, c, a)\n",
        ""
      ],
      "metadata": {
        "id": "Kj9lHhC7VzRF",
        "outputId": "9340bd63-f026-4392-9e61-96e6f0046697",
        "colab": {
          "base_uri": "https://localhost:8080/"
        }
      },
      "execution_count": 19,
      "outputs": [
        {
          "output_type": "stream",
          "name": "stdout",
          "text": [
            "Ingrese un numero: 1\n",
            "Ingrese un numero: 3\n",
            "Ingrese un numero: 3\n",
            "3 3 1\n"
          ]
        }
      ]
    }
  ]
}