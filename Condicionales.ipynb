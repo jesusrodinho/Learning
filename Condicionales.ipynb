{
  "nbformat": 4,
  "nbformat_minor": 0,
  "metadata": {
    "colab": {
      "provenance": [],
      "authorship_tag": "ABX9TyM2bt0uBvM47bBXkYJVvJI+",
      "include_colab_link": true
    },
    "kernelspec": {
      "name": "python3",
      "display_name": "Python 3"
    },
    "language_info": {
      "name": "python"
    }
  },
  "cells": [
    {
      "cell_type": "markdown",
      "metadata": {
        "id": "view-in-github",
        "colab_type": "text"
      },
      "source": [
        "<a href=\"https://colab.research.google.com/github/jesusrodinho/Learning/blob/main/Condicionales.ipynb\" target=\"_parent\"><img src=\"https://colab.research.google.com/assets/colab-badge.svg\" alt=\"Open In Colab\"/></a>"
      ]
    },
    {
      "cell_type": "markdown",
      "source": [
        "#Clase de condicionales"
      ],
      "metadata": {
        "id": "6IYzl7QQaxBc"
      }
    },
    {
      "cell_type": "code",
      "source": [
        "#Program_puntos_x_y\n",
        "\n",
        "x = float(input(\"ingrese coordenada x: \"))\n",
        "y = float(input(\"ingrese coordenada y: \"))\n",
        "\n",
        "if x == 0 or y == 0:\n",
        "\n",
        "  print(\"Coordenada sobre uno o mas ejes\")\n",
        "\n",
        "else:\n",
        "\tif x > 0:\n",
        "\t\tif y > 0:\n",
        "\n",
        "\t\t\tprint(\"primer cuadrante\")\n",
        "\n",
        "\t\telse:\n",
        "\t\t\tprint(\"cuarto cuadrante\")\n",
        "\n",
        "\n",
        "\telse:\n",
        "\t\tif y > 0:\n",
        "\n",
        "\t\t\tprint(\"Segundo cuadrante\")\n",
        "\t\telse:\n",
        "\n",
        "\t\t\tprint(\"Tercer cuadrante\")"
      ],
      "metadata": {
        "colab": {
          "base_uri": "https://localhost:8080/"
        },
        "id": "dDkaLuKkgUVU",
        "outputId": "fe21801c-2a01-461d-8a4a-4ed1aca433fb"
      },
      "execution_count": 3,
      "outputs": [
        {
          "output_type": "stream",
          "name": "stdout",
          "text": [
            "ingrese coordenada x: 34\n",
            "ingrese coordenada y: -2\n",
            "cuarto cuadrante\n"
          ]
        }
      ]
    },
    {
      "cell_type": "code",
      "source": [
        "#Program_distancia_mayor\n",
        "x1 = float(input(\"ingrese coordenada x1: \"))\n",
        "y1 = float(input(\"ingrese coordenada y1: \"))\n",
        "x2 = float(input(\"ingrese coordenada x2: \"))\n",
        "y2 = float(input(\"ingrese coordenada y2: \"))\n",
        "setpoint = float(input(\"ingrese distancia de comparacíon: \"))\n",
        "\n",
        "d = ((x2 - x1)**2 + (y2 - y1)**2)**(1/2)\n",
        "\n",
        "if d > setpoint:\n",
        "\tprint(\"Distancia entre puntos es MAYOR que el setpoint\")\n",
        "else:\n",
        "\tprint(\"Distancia entre puntos es MENOR que el setpoint\")\n"
      ],
      "metadata": {
        "colab": {
          "base_uri": "https://localhost:8080/"
        },
        "id": "AD0Jtmw6hmHQ",
        "outputId": "1756ab70-5e53-45da-db32-b6af70347cc7"
      },
      "execution_count": 7,
      "outputs": [
        {
          "output_type": "stream",
          "name": "stdout",
          "text": [
            "ingrese coordenada x1: 1\n",
            "ingrese coordenada y1: 2\n",
            "ingrese coordenada x2: 3\n",
            "ingrese coordenada y2: 4\n",
            "ingrese distancia de comparacíon: 5\n",
            "Distancia entre puntos es MENOR que el setpoint\n"
          ]
        }
      ]
    },
    {
      "cell_type": "code",
      "source": [
        "#Program_Coint_Toss\n",
        "import random\n",
        "\n",
        "print(\"Seleccione una opcion :\\n1.cara\\n2.sello\")\n",
        "\n",
        "bet = int(input())\n",
        "\n",
        "x = random.choice([\"1\", \"2\"])\n",
        "\n",
        "if x == bet:\n",
        "  print(\"Ganaste\")\n",
        "else:\n",
        "  print(\"Perdiste\")"
      ],
      "metadata": {
        "id": "z__uSy3Di-xq"
      },
      "execution_count": null,
      "outputs": []
    },
    {
      "cell_type": "code",
      "source": [
        "#Program_Factura_Energia\n",
        "h = float(input(\"ingrese altura: \"))\n",
        "consumo = float(input(\"ingrese consumo: \"))\n",
        "estrato = int(input(\"Ingrese su estrato: \"))\n",
        "costo_unitario = float(input(\"ingrese costo unitario en $: \"))\n",
        "if h > 1000:\n",
        "\tconsumo_base = 130\n",
        "else:\n",
        "\tconsumo_base = 173\n",
        "\n",
        "if estrato == '4':\n",
        "\ttarifa = costo_unitario\n",
        "elif estrato == '5' or estrato == '6' or estrato == 'comercial':\n",
        "  tarifa = costo_unitario * 1.2\n",
        "elif estrato == '1':\n",
        "  tarifa = costo_unitario * 0.4\n",
        "elif estrato == '2':\n",
        "  tarifa = costo_unitario * 0.5\n",
        "elif estrato == '3':\n",
        "  tarifa = costo_unitario * 0.85\n",
        "else:\n",
        "  print(\"Estrato no valido\")\n",
        "  tarifa = 0\n",
        "\n",
        "if consumo < consumo_base:\n",
        "  total = tarifa * consumo_base\n",
        "else:\n",
        "  total = consumo_base * tarifa + (consumo - consumo_base) * costo_unitario\n",
        "\n",
        "print(f\"total:${total}\")"
      ],
      "metadata": {
        "id": "PvvGknX1r92-"
      },
      "execution_count": null,
      "outputs": []
    }
  ]
}