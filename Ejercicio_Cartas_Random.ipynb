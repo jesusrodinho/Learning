{
  "nbformat": 4,
  "nbformat_minor": 0,
  "metadata": {
    "colab": {
      "provenance": [],
      "authorship_tag": "ABX9TyNADgw8w6J4uLx/IsV81yjB",
      "include_colab_link": true
    },
    "kernelspec": {
      "name": "python3",
      "display_name": "Python 3"
    },
    "language_info": {
      "name": "python"
    }
  },
  "cells": [
    {
      "cell_type": "markdown",
      "metadata": {
        "id": "view-in-github",
        "colab_type": "text"
      },
      "source": [
        "<a href=\"https://colab.research.google.com/github/jesusrodinho/Learning/blob/main/Ejercicio_Cartas_Random.ipynb\" target=\"_parent\"><img src=\"https://colab.research.google.com/assets/colab-badge.svg\" alt=\"Open In Colab\"/></a>"
      ]
    },
    {
      "cell_type": "markdown",
      "source": [
        "Funcion que al ejecutarse guarde un numero aleatorio y ademas de guardarlo debe sumar ese nuevo numero con el anterior"
      ],
      "metadata": {
        "id": "pXnAhLC3RFtO"
      }
    },
    {
      "cell_type": "code",
      "source": [
        "# import random\n",
        "# def generar_numero_aleatorio(numero_random):\n",
        "#   numero_random = (random.randint(0,10))\n",
        "#   path = \"/tools/numero_random\"\n",
        "#   with open(path, 'a') as file_info:\n",
        "#     file_info\n",
        "# print(numero_random)"
      ],
      "metadata": {
        "id": "xKynYwaLRXrT"
      },
      "execution_count": 9,
      "outputs": []
    },
    {
      "cell_type": "markdown",
      "source": [
        "Juego de pares de cartas\n"
      ],
      "metadata": {
        "id": "Q7iXXEK0cU_2"
      }
    },
    {
      "cell_type": "code",
      "source": [],
      "metadata": {
        "id": "jkcsEMuIlLU9"
      },
      "execution_count": null,
      "outputs": []
    },
    {
      "cell_type": "code",
      "source": [
        "  import random\n",
        "  import time\n",
        "  from IPython.display import clear_output\n",
        "  import copy\n",
        "  rows = 2\n",
        "  columns = 3\n",
        "  cards_back = [[\"🃏\" for i in range(columns)] for i in range(rows)]\n",
        "  options = ['♠', '♠', '♥', '♥','♣' ,'♣' ]\n",
        "  random.shuffle(options)\n",
        "  game_cards = [[\"\" for i in range(columns)] for i in range(rows)]\n",
        "  option_index = 0\n",
        "  for i in range(len(game_cards)):\n",
        "    for j in range(len(game_cards[i])):\n",
        "      game_cards[i][j] = options[option_index]\n",
        "      option_index += 1\n",
        "\n",
        "  def showcards(cards):\n",
        "    for i in range(len(cards)):\n",
        "      for j in range(len(cards[i])):\n",
        "        print(cards[i][j], end= \" \")\n",
        "      print(\"\\n\")\n",
        "t = 1\n",
        "showcards(cards_back)\n",
        "time.sleep(t)\n",
        "clear_output()\n",
        "showcards(game_cards)\n",
        "time.sleep(t)\n",
        "clear_output()\n",
        "showcards(cards_back)\n",
        "\n",
        "\n",
        "row_1 = int(input(\"Indique la fila: \"))\n",
        "column_1 = int(input(\"Indique la columna: \"))\n",
        "\n",
        "temp_cards = (cards_back)\n",
        "card_choice_1 = game_cards [row_1][column_1]\n",
        "temp_cards[row_1][column_1] = card_choice_1\n",
        "clear_output()\n",
        "showcards(temp_cards)\n",
        "\n",
        "row_2 = int(input(\"Indique la fila: \"))\n",
        "column_2 = int(input(\"Indique la columna: \"))\n",
        "\n",
        "temp_cards = cards_back\n",
        "card_choice_2 = game_cards [row_2][column_2]\n",
        "temp_cards[row_2][column_2] = card_choice_2\n",
        "clear_output()\n",
        "showcards(temp_cards)\n",
        "\n",
        "if card_choice_1 == card_choice_2:\n",
        "    temp_cards[row_1][column_1] = \"  \"\n",
        "    temp_cards[row_2][column_2] = \"  \"\n",
        "    clear_output()\n",
        "    showcards(temp_cards)\n",
        "else:\n",
        "    clear_output()\n",
        "    showcards(temp_cards)\n",
        "\n",
        "while remaining > 0:\n",
        "    row_1 = int(input(\"Indique la fila: \"))\n",
        "    column_1 = int(input(\"Indique la columna: \"))\n",
        "\n",
        "    temp_cards = (cards_back)\n",
        "    card_choice_1 = game_cards [row_1][column_1]\n",
        "    temp_cards[row_1][column_1] = card_choice_1\n",
        "    clear_output()\n",
        "    showcards(temp_cards)\n",
        "\n",
        "    row_2 = int(input(\"Indique la fila: \"))\n",
        "    column_2 = int(input(\"Indique la columna: \"))\n",
        "\n",
        "    temp_cards = cards_back\n",
        "    card_choice_2 = game_cards [row_2][column_2]\n",
        "    temp_cards[row_2][column_2] = card_choice_2\n",
        "    clear_output()\n",
        "    showcards(temp_cards)\n",
        "    if card_choice_1 == card_choice_2:\n",
        "      temp_cards[row_1][column_1] = \"  \"\n",
        "      temp_cards[row_2][column_2] = \"  \"\n",
        "      clear_output()\n",
        "      showcards(temp_cards)\n",
        "    else:\n",
        "      clear_output()\n",
        "      temp_cards[row_1][column_1] = cards_back[row_1][column_1]\n",
        "      temp_cards[row_2][column_2] == cards_back[row_2][column_2]\n",
        "      showcards(temp_cards)\n",
        "  if remaining == 0:\n",
        "    print(\"You Win\")"
      ],
      "metadata": {
        "id": "DveuJQGxdCnL"
      },
      "execution_count": null,
      "outputs": []
    }
  ]
}