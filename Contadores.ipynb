{
  "nbformat": 4,
  "nbformat_minor": 0,
  "metadata": {
    "colab": {
      "provenance": [],
      "authorship_tag": "ABX9TyP8UAhVCOojgtV2P9YOgFoJ",
      "include_colab_link": true
    },
    "kernelspec": {
      "name": "python3",
      "display_name": "Python 3"
    },
    "language_info": {
      "name": "python"
    }
  },
  "cells": [
    {
      "cell_type": "markdown",
      "metadata": {
        "id": "view-in-github",
        "colab_type": "text"
      },
      "source": [
        "<a href=\"https://colab.research.google.com/github/jesusrodinho/Learning/blob/main/Contadores.ipynb\" target=\"_parent\"><img src=\"https://colab.research.google.com/assets/colab-badge.svg\" alt=\"Open In Colab\"/></a>"
      ]
    },
    {
      "cell_type": "markdown",
      "source": [
        "#Contadores"
      ],
      "metadata": {
        "id": "5QRk0r_GwATm"
      }
    },
    {
      "cell_type": "markdown",
      "source": [
        "##Estructura Mientras (\"While\")"
      ],
      "metadata": {
        "id": "naznE46pwF2t"
      }
    },
    {
      "cell_type": "code",
      "source": [
        "#Program_While\n",
        "print(\"Bienvenido al programa Calcular Suma\")\n",
        "print(\"Ingrese los numeros cuando se le solicite\")\n",
        "print(\"Para finalizar ingrese 0\")\n",
        "x = float(input(\"Ingrese el primer valor: \"))\n",
        "sum_x = 0\n",
        "sum_x = sum_x + x\n",
        "while x != 0:\n",
        "  x = float(input(\"Ingrese el siguiente valor: \"))\n",
        "  sum_x += x\n",
        "print(\"La suma es\", sum_x)"
      ],
      "metadata": {
        "colab": {
          "base_uri": "https://localhost:8080/"
        },
        "id": "vrU0Ws0GwMfN",
        "outputId": "fd28a8ff-7941-4f5f-8cce-76610bbfadd8"
      },
      "execution_count": null,
      "outputs": [
        {
          "output_type": "stream",
          "name": "stdout",
          "text": [
            "Bienvenido al programa Calcular Suma\n",
            "Ingrese los numeros cuando se le solicite\n",
            "Para finalizar ingrese 0\n",
            "Ingrese el primer valor: 5\n",
            "Ingrese el siguiente valor: 0\n",
            "La suma es 5.0\n"
          ]
        }
      ]
    },
    {
      "cell_type": "code",
      "source": [
        "#Promedio_Ponderado"
      ],
      "metadata": {
        "id": "3AiH2WaJ6S45"
      },
      "execution_count": null,
      "outputs": []
    },
    {
      "cell_type": "code",
      "source": [
        "fruits = ['naranja', 'manzana', 'mango', 'mandarina', 'mandarina', 'banano']\n",
        "# for fruits in fruits:\n",
        "#   print(fruits)\n",
        "for i in range(len(fruits)):\n",
        "  print(f'{i+1} {fruits[i]}')"
      ],
      "metadata": {
        "id": "tbNUXoD3UjXr",
        "outputId": "658bcf6c-5f63-4387-d177-ceb52f7b541c",
        "colab": {
          "base_uri": "https://localhost:8080/",
          "height": 0
        }
      },
      "execution_count": 30,
      "outputs": [
        {
          "output_type": "stream",
          "name": "stdout",
          "text": [
            "1 naranja\n",
            "2 manzana\n",
            "3 mango\n",
            "4 mandarina\n",
            "5 mandarina\n",
            "6 banano\n"
          ]
        }
      ]
    },
    {
      "cell_type": "code",
      "source": [
        "i = 0\n",
        "while i < 5:\n",
        "  print(i)\n",
        "  i += 1"
      ],
      "metadata": {
        "id": "n6ajk_NSVlbp",
        "outputId": "d8e6b329-dbd2-411b-c459-ac2612190f91",
        "colab": {
          "base_uri": "https://localhost:8080/",
          "height": 0
        }
      },
      "execution_count": 31,
      "outputs": [
        {
          "output_type": "stream",
          "name": "stdout",
          "text": [
            "0\n",
            "1\n",
            "2\n",
            "3\n",
            "4\n"
          ]
        }
      ]
    },
    {
      "cell_type": "code",
      "source": [
        "for i in range(10, -11, -2):\n",
        "  print(i)"
      ],
      "metadata": {
        "id": "Ay9J7RB_VwoZ",
        "outputId": "d8bfe443-820e-4f94-d401-990edaae10d4",
        "colab": {
          "base_uri": "https://localhost:8080/",
          "height": 0
        }
      },
      "execution_count": 34,
      "outputs": [
        {
          "output_type": "stream",
          "name": "stdout",
          "text": [
            "10\n",
            "8\n",
            "6\n",
            "4\n",
            "2\n",
            "0\n",
            "-2\n",
            "-4\n",
            "-6\n",
            "-8\n",
            "-10\n"
          ]
        }
      ]
    },
    {
      "cell_type": "code",
      "source": [],
      "metadata": {
        "id": "JzwQuvlQWOoa"
      },
      "execution_count": null,
      "outputs": []
    },
    {
      "cell_type": "markdown",
      "source": [
        "#Listas en Pyhton\n"
      ],
      "metadata": {
        "id": "Q20P2GzkPWT1"
      }
    },
    {
      "cell_type": "code",
      "source": [
        "fruits = ['manzana' , 'naranja' , 'pera' , 'pomelo' , 'mango']\n",
        "# print(fruits)\n",
        "fruits.append('guanabana')\n",
        "# print(fruits)\n",
        "fruits.append('ciruela')\n",
        "# print(fruits)\n",
        "# print(fruits[0])\n",
        "# print(fruits[-1])\n",
        "# print(fruits[4])\n",
        "# print(fruits[:3])\n",
        "\n",
        "# fruits[2] = 'banano'\n",
        "# fruits[-2] = 'mandarina'\n",
        "# print(fruits)\n",
        "# fruits.remove('pomelo')\n",
        "# print(fruits)\n",
        "# fruits.insert(2, 'mandarina')\n",
        "# print(fruits)\n",
        "# a = fruits.pop()\n",
        "# print(fruits)\n",
        "# print(a)\n",
        "# a = range(5)\n",
        "# print(a)\n",
        "# b = range(2,5)\n",
        "# print(b)\n",
        "# c = range(3,5,10)\n",
        "# print(c)\n",
        "# d = range(len(fruits))\n",
        "# print(d)\n",
        "# print(fruits)\n",
        "# fruits.sort(reverse = True )\n",
        "# a = sorted(fruits)\n",
        "# print(fruits)\n",
        "\n",
        "# for fruits in fruits:\n",
        "#   if fruits == 'mandarina':\n",
        "#     continue\n",
        "#   print(fruits)\n",
        "extra_fruits = ['extra ' + fruit for fruit in fruits]\n",
        "print(extra_fruits)"
      ],
      "metadata": {
        "id": "6Yk9kUb2PaDV",
        "outputId": "58ff5183-c200-4a5f-9b1a-38ee01f2c862",
        "colab": {
          "base_uri": "https://localhost:8080/",
          "height": 0
        }
      },
      "execution_count": 50,
      "outputs": [
        {
          "output_type": "stream",
          "name": "stdout",
          "text": [
            "['extra manzana', 'extra naranja', 'extra pera', 'extra pomelo', 'extra mango', 'extra guanabana', 'extra ciruela']\n"
          ]
        }
      ]
    },
    {
      "cell_type": "code",
      "source": [
        "cuadro_1 =['Mami ' , 'Bebe ' , 'Princess ','Mami ']\n",
        "cuadro_2 =['yo quiero ' , 'yo puedo' , 'yo vengo ','voy a ']\n",
        "cuadro_3 =['encenderte ' , 'amarte ' , 'ligar ','jugar ']\n",
        "cuadro_4 =['hasta que salga el sol ' , 'toda la noche ' , 'hasta el amanecer ','todo el dia ']\n",
        "cuadro_5 =['sin anestesia ' , 'sin compromiso ' , 'feis to feis ','sin miedo ']\n",
        "lista = ['cuadro_1' , 'cuadro_2' , 'cuadro_3' , 'cuadro_4' , 'cuadro_5']\n",
        "message = ''\n",
        "for part in lista:\n",
        "  message += random.choice(part)\n",
        "print(message)"
      ],
      "metadata": {
        "id": "xGBYtulzXZhg"
      },
      "execution_count": null,
      "outputs": []
    },
    {
      "cell_type": "code",
      "source": [
        "a = list(input(\"Ingrese numeros separados por coma (','): \").split(\",\"))\n",
        "numbers = []\n",
        "for i in range(len(a)):\n",
        "  if a[i] != '':\n",
        "    numbers.append(float(a[i]))\n",
        "b = list(input(\"Ingrese numeros separados por coma (','): \").split(\",\"))\n",
        "numbers_2 = []\n",
        "for i in range(len(b)):\n",
        "  if b[i] != '':\n",
        "    numbers_2.append(float(b[i]))\n",
        "if a > b:\n",
        "    print(\"El usuario a tiene la suma mas grande\")\n",
        "else:\n",
        "    print(\"El usuario b tiene la suma mas grande\")"
      ],
      "metadata": {
        "id": "bmoJf8z3eE6b",
        "outputId": "8c5aff81-ad34-44c0-b8c5-70d2489c168d",
        "colab": {
          "base_uri": "https://localhost:8080/",
          "height": 0
        }
      },
      "execution_count": 69,
      "outputs": [
        {
          "output_type": "stream",
          "name": "stdout",
          "text": [
            "Ingrese numeros separados por coma (','): 3, 4, 5\n",
            "Ingrese numeros separados por coma (','): 6, 8, 7\n",
            "El usuario b tiene la suma mas grande\n"
          ]
        }
      ]
    },
    {
      "cell_type": "code",
      "source": [
        "n = ad"
      ],
      "metadata": {
        "id": "ukOslgdDiN1E"
      },
      "execution_count": null,
      "outputs": []
    }
  ]
}