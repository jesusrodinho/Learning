{
  "nbformat": 4,
  "nbformat_minor": 0,
  "metadata": {
    "colab": {
      "provenance": [],
      "authorship_tag": "ABX9TyOxIaVcyhrFI85bINmYCe3n",
      "include_colab_link": true
    },
    "kernelspec": {
      "name": "python3",
      "display_name": "Python 3"
    },
    "language_info": {
      "name": "python"
    }
  },
  "cells": [
    {
      "cell_type": "markdown",
      "metadata": {
        "id": "view-in-github",
        "colab_type": "text"
      },
      "source": [
        "<a href=\"https://colab.research.google.com/github/jesusrodinho/Learning/blob/main/Contadores.ipynb\" target=\"_parent\"><img src=\"https://colab.research.google.com/assets/colab-badge.svg\" alt=\"Open In Colab\"/></a>"
      ]
    },
    {
      "cell_type": "markdown",
      "source": [
        "#Contadores"
      ],
      "metadata": {
        "id": "5QRk0r_GwATm"
      }
    },
    {
      "cell_type": "markdown",
      "source": [
        "##Estructura Mientras (\"While\")"
      ],
      "metadata": {
        "id": "naznE46pwF2t"
      }
    },
    {
      "cell_type": "code",
      "source": [
        "#Program_While\n",
        "print(\"Bienvenido al programa Calcular Suma\")\n",
        "print(\"Ingrese los numeros cuando se le solicite\")\n",
        "print(\"Para finalizar ingrese 0\")\n",
        "x = float(input(\"Ingrese el primer valor: \"))\n",
        "sum_x = 0\n",
        "sum_x = sum_x + x\n",
        "while x != 0:\n",
        "  x = float(input(\"Ingrese el siguiente valor: \"))\n",
        "  sum_x += x\n",
        "print(\"La suma es\", sum_x)"
      ],
      "metadata": {
        "colab": {
          "base_uri": "https://localhost:8080/"
        },
        "id": "vrU0Ws0GwMfN",
        "outputId": "fd28a8ff-7941-4f5f-8cce-76610bbfadd8"
      },
      "execution_count": 4,
      "outputs": [
        {
          "output_type": "stream",
          "name": "stdout",
          "text": [
            "Bienvenido al programa Calcular Suma\n",
            "Ingrese los numeros cuando se le solicite\n",
            "Para finalizar ingrese 0\n",
            "Ingrese el primer valor: 5\n",
            "Ingrese el siguiente valor: 0\n",
            "La suma es 5.0\n"
          ]
        }
      ]
    },
    {
      "cell_type": "code",
      "source": [
        "#Promedio_ponderado"
      ],
      "metadata": {
        "id": "3AiH2WaJ6S45"
      },
      "execution_count": null,
      "outputs": []
    }
  ]
}