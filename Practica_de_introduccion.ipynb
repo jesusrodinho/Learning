{
  "nbformat": 4,
  "nbformat_minor": 0,
  "metadata": {
    "colab": {
      "provenance": [],
      "authorship_tag": "ABX9TyM20SvlVErJaKa7/fxQSlTS",
      "include_colab_link": true
    },
    "kernelspec": {
      "name": "python3",
      "display_name": "Python 3"
    },
    "language_info": {
      "name": "python"
    }
  },
  "cells": [
    {
      "cell_type": "markdown",
      "metadata": {
        "id": "view-in-github",
        "colab_type": "text"
      },
      "source": [
        "<a href=\"https://colab.research.google.com/github/jesusrodinho/Learning/blob/main/Practica_de_introduccion.ipynb\" target=\"_parent\"><img src=\"https://colab.research.google.com/assets/colab-badge.svg\" alt=\"Open In Colab\"/></a>"
      ]
    },
    {
      "cell_type": "markdown",
      "source": [
        "#Aprendiendo Collab\n",
        "***\n",
        "###Salto de linea\n",
        "utilice<!-- br -->\n",
        "br\n",
        "***\n",
        "###Hacer una linea de codigo\n",
        "`Linea de codigo`\n",
        "***\n",
        "###Lista de codigo\n",
        "*   Leche\n",
        "*   Huevo\n",
        "*   Carne\n",
        "\n",
        "***\n",
        "###Links\n",
        "**Ir a google** (https://www.google.com/?hl=es)\n",
        "\n",
        "***\n",
        "###Latex\n",
        "**Utilice el signo $**\n",
        "\n",
        "**Ejemplo:**\n",
        "La ecuacion que relaciona el voltaje $V$ en una resistencia $R$ con su corriente $I$ se conoce como la Ley de Ohm:\n",
        "$$V=RI$$\n",
        "***\n",
        "*Si hay un problema dificil el ultimo paso seria usar Stack Overflow y evitar usar chatGPT*\n",
        "\n",
        "  \n",
        "\n",
        "\n",
        "\n",
        "\n",
        "\n"
      ],
      "metadata": {
        "id": "mCOQidKs16lc"
      }
    },
    {
      "cell_type": "code",
      "source": [
        "#Suma\n",
        "a = 3\n",
        "b = -4\n",
        "c= a + b\n",
        "print(c)"
      ],
      "metadata": {
        "colab": {
          "base_uri": "https://localhost:8080/"
        },
        "id": "4OblPsFD8eFG",
        "outputId": "f2fca31d-cc6c-49a3-be07-4a82dbb27f05"
      },
      "execution_count": null,
      "outputs": [
        {
          "output_type": "stream",
          "name": "stdout",
          "text": [
            "-1\n"
          ]
        }
      ]
    },
    {
      "cell_type": "code",
      "source": [
        "#Resta\n",
        "c = a - b\n",
        "print(c)"
      ],
      "metadata": {
        "colab": {
          "base_uri": "https://localhost:8080/"
        },
        "id": "u6NHUMu28_6R",
        "outputId": "c9ee1692-2e38-4913-f4e2-227444b0bb49"
      },
      "execution_count": null,
      "outputs": [
        {
          "output_type": "stream",
          "name": "stdout",
          "text": [
            "7\n"
          ]
        }
      ]
    },
    {
      "cell_type": "code",
      "source": [
        "#Multiplicacion\n",
        "c = a*b\n",
        "print(c)"
      ],
      "metadata": {
        "colab": {
          "base_uri": "https://localhost:8080/"
        },
        "id": "brteNXHA9W-_",
        "outputId": "caf8dab2-bbcf-4631-d728-f4ea47952836"
      },
      "execution_count": null,
      "outputs": [
        {
          "output_type": "stream",
          "name": "stdout",
          "text": [
            "-12\n"
          ]
        }
      ]
    },
    {
      "cell_type": "code",
      "source": [
        "#Division\n",
        "c = a/b\n",
        "a = b//a\n",
        "print(c)\n",
        "print(a)"
      ],
      "metadata": {
        "colab": {
          "base_uri": "https://localhost:8080/"
        },
        "id": "06kB4Ayz9ZP3",
        "outputId": "53181c25-0810-470e-8df2-0b54a0a59563"
      },
      "execution_count": null,
      "outputs": [
        {
          "output_type": "stream",
          "name": "stdout",
          "text": [
            "-0.75\n",
            "-2\n"
          ]
        }
      ]
    },
    {
      "cell_type": "code",
      "source": [
        "#Potencia\n",
        "a = 8\n",
        "print(a)"
      ],
      "metadata": {
        "colab": {
          "base_uri": "https://localhost:8080/"
        },
        "id": "8hf0OYFf931g",
        "outputId": "3a631b68-1b33-44be-c994-4eaf3cbc32b9"
      },
      "execution_count": null,
      "outputs": [
        {
          "output_type": "stream",
          "name": "stdout",
          "text": [
            "8\n"
          ]
        }
      ]
    },
    {
      "cell_type": "code",
      "source": [
        "#Concatenar\n",
        "firstname = \"Jesus\"\n",
        "lastname = \"Rodiño\"\n",
        "fullname = lastname +\" , \"+ firstname\n",
        "print(fullname)"
      ],
      "metadata": {
        "colab": {
          "base_uri": "https://localhost:8080/"
        },
        "id": "pNfzRvl6-D4A",
        "outputId": "c91de887-ebb6-4947-e0ab-aa92b066b5f8"
      },
      "execution_count": null,
      "outputs": [
        {
          "output_type": "stream",
          "name": "stdout",
          "text": [
            "Rodiño , Jesus\n"
          ]
        }
      ]
    },
    {
      "cell_type": "code",
      "source": [
        "a=5\n",
        "a+=10\n",
        "print(a)"
      ],
      "metadata": {
        "colab": {
          "base_uri": "https://localhost:8080/"
        },
        "id": "0FhyZV5o-1oY",
        "outputId": "fc120710-fb82-42e9-8a9c-4356825d9194"
      },
      "execution_count": null,
      "outputs": [
        {
          "output_type": "stream",
          "name": "stdout",
          "text": [
            "15\n"
          ]
        }
      ]
    },
    {
      "cell_type": "code",
      "source": [
        "#Multi-Line String\n",
        "my_text = \"\"\"\n",
        "¡Hello World!\n",
        "\"\"\"\n",
        "print(my_text)\n"
      ],
      "metadata": {
        "colab": {
          "base_uri": "https://localhost:8080/"
        },
        "id": "FW-uk67g_V2a",
        "outputId": "60f8b12c-0b24-42b5-c6d8-d19ac1f6d7cf"
      },
      "execution_count": null,
      "outputs": [
        {
          "output_type": "stream",
          "name": "stdout",
          "text": [
            "\n",
            "¡Hello World!\n",
            "\n"
          ]
        }
      ]
    },
    {
      "cell_type": "markdown",
      "source": [
        "***\n",
        "# Expresiones Booleanas\n",
        "Son aquellas que se evaluan como `true` o `False`. El computador no entiende las opiniones"
      ],
      "metadata": {
        "id": "BwyxMoNaIjst"
      }
    },
    {
      "cell_type": "code",
      "source": [
        "a = 3\n",
        "b = 5\n",
        "print(a==b)\n",
        "print(a!=b)"
      ],
      "metadata": {
        "id": "CBZFgPz1I2g1",
        "outputId": "66f43d5a-ad87-4eda-b7ed-4c143e8c7871",
        "colab": {
          "base_uri": "https://localhost:8080/"
        }
      },
      "execution_count": null,
      "outputs": [
        {
          "output_type": "stream",
          "name": "stdout",
          "text": [
            "False\n",
            "True\n"
          ]
        }
      ]
    },
    {
      "cell_type": "code",
      "source": [
        "c = a == b\n",
        "print(c)"
      ],
      "metadata": {
        "id": "AhGIBLKuJSVG",
        "outputId": "1418b8da-dd8b-4295-894e-7bb6d6cf2a7d",
        "colab": {
          "base_uri": "https://localhost:8080/"
        }
      },
      "execution_count": null,
      "outputs": [
        {
          "output_type": "stream",
          "name": "stdout",
          "text": [
            "False\n"
          ]
        }
      ]
    },
    {
      "cell_type": "markdown",
      "source": [
        "***\n",
        "## Operadores Booleanos\n",
        "Se utilizan para realizar operaciones entre expresiones booleanas. Son `and`,`or` y `not`"
      ],
      "metadata": {
        "id": "0u4P_kBfJt2J"
      }
    },
    {
      "cell_type": "code",
      "source": [
        "#Operadores Booleanos\n",
        "a = 2\n",
        "b = 3\n",
        "#not\n",
        "d = not a == b\n",
        "c = not d\n",
        "print(d,c)"
      ],
      "metadata": {
        "id": "_S9HL7PuJ-xi",
        "outputId": "06fd1fbb-f101-4a25-9e17-07d3499bfc9d",
        "colab": {
          "base_uri": "https://localhost:8080/"
        }
      },
      "execution_count": null,
      "outputs": [
        {
          "output_type": "stream",
          "name": "stdout",
          "text": [
            "True False\n"
          ]
        }
      ]
    },
    {
      "cell_type": "code",
      "source": [
        "#and\n",
        "e = d and not c\n",
        "print(d, c, e)\n",
        "print(d, c, e)"
      ],
      "metadata": {
        "id": "1VMDpfSPKQid",
        "outputId": "9ecdee16-94cf-4a89-bf50-e343c1c4e1d4",
        "colab": {
          "base_uri": "https://localhost:8080/"
        }
      },
      "execution_count": null,
      "outputs": [
        {
          "output_type": "stream",
          "name": "stdout",
          "text": [
            "True False True\n",
            "True False True\n"
          ]
        }
      ]
    },
    {
      "cell_type": "code",
      "source": [
        "#or\n",
        "d = e or c\n",
        "print(e)"
      ],
      "metadata": {
        "id": "TkMYnLkmKxN8",
        "outputId": "73b0e414-d1c8-478b-afb0-0f2b113839df",
        "colab": {
          "base_uri": "https://localhost:8080/"
        }
      },
      "execution_count": null,
      "outputs": [
        {
          "output_type": "stream",
          "name": "stdout",
          "text": [
            "True\n"
          ]
        }
      ]
    },
    {
      "cell_type": "markdown",
      "source": [
        "***\n",
        "#Inputs\n",
        "Las entradas de usuario por consola\n"
      ],
      "metadata": {
        "id": "JLHvWK-dPpVL"
      }
    },
    {
      "cell_type": "code",
      "source": [
        "user_age = input(\"¿Cuantos años tienes?\")\n",
        "print(\"tu edad es \" + user_age + \" años\")"
      ],
      "metadata": {
        "id": "oUKL1u6JONIY",
        "outputId": "5f7c8384-adac-44b0-95c4-8cc5fe5b2a3f",
        "colab": {
          "base_uri": "https://localhost:8080/"
        }
      },
      "execution_count": null,
      "outputs": [
        {
          "output_type": "stream",
          "name": "stdout",
          "text": [
            "¿Cuantos años tienes?16\n",
            "tu edad es 16 años\n"
          ]
        }
      ]
    },
    {
      "cell_type": "code",
      "source": [
        "firstname = input(\"Nombre:\")\n",
        "lastname = input(\"Apellido:\")\n",
        "fullname = firstname + \" \" + lastname\n",
        "print(\"Hola\", fullname, \"¡Bienvenido a Python!\")"
      ],
      "metadata": {
        "id": "RxCs1N2CP8wn",
        "outputId": "1a9ac66a-163f-4c56-9caa-fd018e073caa",
        "colab": {
          "base_uri": "https://localhost:8080/"
        }
      },
      "execution_count": null,
      "outputs": [
        {
          "output_type": "stream",
          "name": "stdout",
          "text": [
            "Nombre:Jesús\n",
            "Apellido:Rodiño\n",
            "Hola Jesús Rodiño ¡Bienvenido a Python!\n"
          ]
        }
      ]
    },
    {
      "cell_type": "markdown",
      "source": [
        "# Ejercicios\n"
      ],
      "metadata": {
        "id": "xBSKGanwTW8f"
      }
    },
    {
      "cell_type": "code",
      "source": [
        "name = Yisus\n",
        "adress = Palmas\n",
        "city = Mompos\n",
        "state = Democractico\n",
        "zip = 219410709\n",
        "phone_number = 319024714\n",
        "college_major = UBP\n",
        "\n",
        "\n",
        "# name = input(\"ingrese su nombre: \")\n",
        "# adress = input(\"Ingrese su direccion: \")\n",
        "# city =  input(\"Ingrese su ciudad: \")\n",
        "# state =  input(\"Ingrese su estado: \")\n",
        "# zip =  input(\"Ingrese su zip: \")\n",
        "# phone_number =  input(\"Ingrese su numero de telefono:\")\n",
        "# college_major = input(\"Ingrese su Titulo universitario: \")\n",
        "\n",
        "message = f\"\"\"\n",
        "Datos del Usuario:\n",
        "Nombre: {name}\n",
        "Direccion:{adress}\n",
        "Ciudad: {city}\n",
        "Estado: {state}\n",
        "Codigo zip: {zip}\n",
        "Numero de telefono: {phone_number}\n",
        "Titulo universitario: {college_major}\n",
        "\"\"\""
      ],
      "metadata": {
        "id": "EDepCVNVUDkH"
      },
      "execution_count": null,
      "outputs": []
    },
    {
      "cell_type": "code",
      "source": [
        "# Suma de dos numeros\n",
        "g = float(input(\"Ingrese el primer numero: \"))\n",
        "h = float(input(\"Ingrese el segundo numero: \"))\n",
        "l = g + h\n",
        "print(f\"la suma de {g} y {h} es {l}\")"
      ],
      "metadata": {
        "id": "BB9pyQDgW3rB",
        "outputId": "31618ed8-d5be-4e49-8f83-011a1f48b74c",
        "colab": {
          "base_uri": "https://localhost:8080/"
        }
      },
      "execution_count": null,
      "outputs": [
        {
          "output_type": "stream",
          "name": "stdout",
          "text": [
            "Ingrese el primer numero: 2\n",
            "Ingrese el segundo numero: 3\n",
            "la suma de 2.0 y 3.0 es 5.0\n"
          ]
        }
      ]
    },
    {
      "cell_type": "code",
      "source": [
        "margin = 0.23\n",
        "sales = float(input(\"Ingrese el monto de ventas: \"))\n",
        "profit = sales*margin\n",
        "print(f\"Las utilidades fueron de\",(profit))"
      ],
      "metadata": {
        "id": "g8_iewZdYyNk",
        "outputId": "8f5a5e29-1e36-4cc5-961e-187bb3e8001e",
        "colab": {
          "base_uri": "https://localhost:8080/"
        }
      },
      "execution_count": null,
      "outputs": [
        {
          "output_type": "stream",
          "name": "stdout",
          "text": [
            "Ingrese el monto de ventas: 40\n",
            "Las utilidades fueron de 9.200000000000001\n"
          ]
        }
      ]
    }
  ]
}