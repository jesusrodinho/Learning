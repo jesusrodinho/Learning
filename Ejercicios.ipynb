{
  "nbformat": 4,
  "nbformat_minor": 0,
  "metadata": {
    "colab": {
      "provenance": [],
      "authorship_tag": "ABX9TyOBX3I6iziDBi5kGVqvB1pv",
      "include_colab_link": true
    },
    "kernelspec": {
      "name": "python3",
      "display_name": "Python 3"
    },
    "language_info": {
      "name": "python"
    }
  },
  "cells": [
    {
      "cell_type": "markdown",
      "metadata": {
        "id": "view-in-github",
        "colab_type": "text"
      },
      "source": [
        "<a href=\"https://colab.research.google.com/github/jesusrodinho/desktop-tutorial/blob/main/Ejercicios.ipynb\" target=\"_parent\"><img src=\"https://colab.research.google.com/assets/colab-badge.svg\" alt=\"Open In Colab\"/></a>"
      ]
    },
    {
      "cell_type": "markdown",
      "source": [
        "#Ejercicios"
      ],
      "metadata": {
        "id": "N1_FsKNZmt5x"
      }
    },
    {
      "cell_type": "code",
      "source": [
        "#Land Calculation\n",
        "# TOTAL_ACRE = 43500\n",
        "square_feet = float(input(\"Insert the total number of square feet in the tract: \"))\n",
        "# total = square_feet / TOTAL_ACRE\n",
        "print(f\"The total number of acres in the tract is {total}\")"
      ],
      "metadata": {
        "colab": {
          "base_uri": "https://localhost:8080/"
        },
        "id": "D5_TqEiAmv7j",
        "outputId": "d92055b7-06f8-44de-d045-76fccc6da193"
      },
      "execution_count": 3,
      "outputs": [
        {
          "output_type": "stream",
          "name": "stdout",
          "text": [
            "Insert the total number of square feet in the tract: 90414981\n",
            "The total number of acres in the tract is 0.11494252873563218\n"
          ]
        }
      ]
    },
    {
      "cell_type": "code",
      "source": [
        "#Mas reducido\n",
        "square_feet = float(input(\"Insert the total number of square feet in the tract: \"))\n",
        "print(f\"The total number of acres in the tract is {square_feet /43500}\")"
      ],
      "metadata": {
        "colab": {
          "base_uri": "https://localhost:8080/"
        },
        "id": "jfzcGAjcokKY",
        "outputId": "849fa71a-399f-4e4e-b72c-86826c3c7045"
      },
      "execution_count": 6,
      "outputs": [
        {
          "output_type": "stream",
          "name": "stdout",
          "text": [
            "Insert the total number of square feet in the tract: 5\n",
            "The total number of acres in the tract is 0.00011494252873563218\n"
          ]
        }
      ]
    },
    {
      "cell_type": "code",
      "source": [
        "#Total Purchase\n",
        "TAX = 6/100\n",
        "item_1 = float(input(\"Ingprese el valor del item 1: $\"))\n",
        "item_2 = float(input(\"Ingprese el valor del item 2: $\"))\n",
        "item_3 = float(input(\"Ingprese el valor del item 3: $\"))\n",
        "item_4 = float(input(\"Ingprese el valor del item 4: $\"))\n",
        "item_5 = float(input(\"Ingprese el valor del item 5: $\"))\n",
        "subtotal = item_1 + item_2 + item_3 + item_4 + item_5\n",
        "sales_tax = subtotal * TAX\n",
        "amount = subtotal + sales_tax\n",
        "print(f\"Subtotal: ${subtotal}\\nSales Tax: ${sales_tax}\\nTotal: ${amount}\")"
      ],
      "metadata": {
        "colab": {
          "base_uri": "https://localhost:8080/"
        },
        "id": "sQEYfd1HpY3I",
        "outputId": "996dbcfc-fde3-40c7-c457-af8cf0cea320"
      },
      "execution_count": 9,
      "outputs": [
        {
          "output_type": "stream",
          "name": "stdout",
          "text": [
            "Ingprese el valor del item 1: $100\n",
            "Ingprese el valor del item 2: $150\n",
            "Ingprese el valor del item 3: $90\n",
            "Ingprese el valor del item 4: $75\n",
            "Ingprese el valor del item 5: $82\n",
            "Subtotal: $497.0\n",
            "Sales Tax: $29.82\n",
            "Total: $526.82\n"
          ]
        }
      ]
    },
    {
      "cell_type": "code",
      "source": [
        "SPEED = 60\n",
        "TIME_1 = 5\n",
        "TIME_2 = 8\n",
        "TIME_3 = 12\n",
        "distance_1 = TIME_1 * SPEED\n",
        "distance_2 = TIME_2 * SPEED\n",
        "distance_3 = TIME_3 * SPEED\n",
        "print(f\"Las distancias recorridas a {SPEED} millas/hora son:\")\n",
        "print(f\"-{distance_1} Millas en {TIME_1} horas\")\n",
        "print(f\"-{distance_2} Millas en {TIME_2} horas\")\n",
        "print(f\"-{distance_3} Millas en {TIME_3} horas\")"
      ],
      "metadata": {
        "colab": {
          "base_uri": "https://localhost:8080/"
        },
        "id": "NyRITTvSsjh9",
        "outputId": "691cbefe-aeb6-4586-b551-1e02fb04804f"
      },
      "execution_count": 16,
      "outputs": [
        {
          "output_type": "stream",
          "name": "stdout",
          "text": [
            "Las distancias recorridas a 60 millas/hora son:\n",
            "-300 Millas en 5 horas\n",
            "-480 Millas en 8 horas\n",
            "-720 Millas en 12 horas\n"
          ]
        }
      ]
    },
    {
      "cell_type": "code",
      "source": [
        "print(\"dijo q estaba \\\"facil\\\"\")"
      ],
      "metadata": {
        "colab": {
          "base_uri": "https://localhost:8080/"
        },
        "id": "usiN_P07t18e",
        "outputId": "1b99eb45-aede-4e4f-d03c-ac8f2d75543a"
      },
      "execution_count": 19,
      "outputs": [
        {
          "output_type": "stream",
          "name": "stdout",
          "text": [
            "dijo q estaba \"facil\"\n"
          ]
        }
      ]
    }
  ]
}