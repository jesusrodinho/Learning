{
  "nbformat": 4,
  "nbformat_minor": 0,
  "metadata": {
    "colab": {
      "provenance": [],
      "authorship_tag": "ABX9TyPuOSUkS7Qqt3oDbl7HhKJy",
      "include_colab_link": true
    },
    "kernelspec": {
      "name": "python3",
      "display_name": "Python 3"
    },
    "language_info": {
      "name": "python"
    }
  },
  "cells": [
    {
      "cell_type": "markdown",
      "metadata": {
        "id": "view-in-github",
        "colab_type": "text"
      },
      "source": [
        "<a href=\"https://colab.research.google.com/github/jesusrodinho/Learning/blob/main/Ejercicios_2.ipynb\" target=\"_parent\"><img src=\"https://colab.research.google.com/assets/colab-badge.svg\" alt=\"Open In Colab\"/></a>"
      ]
    },
    {
      "cell_type": "markdown",
      "source": [
        "##Ejercicios Simples\n"
      ],
      "metadata": {
        "id": "tytFauyC7SUv"
      }
    },
    {
      "cell_type": "code",
      "execution_count": null,
      "metadata": {
        "colab": {
          "base_uri": "https://localhost:8080/"
        },
        "id": "h_wLB7MLiZPm",
        "outputId": "11c55b82-0580-4a9a-c2d6-b4f85eaee25c"
      },
      "outputs": [
        {
          "output_type": "stream",
          "name": "stdout",
          "text": [
            "Ingrese un numero que este entre 1 y 10: 2\n",
            "II\n"
          ]
        }
      ],
      "source": [
        "#Program_roman\n",
        "n = int(input(\"Ingrese un numero que este entre 1 y 10: \"))\n",
        "if n == 1:\n",
        "  print(\"I\")\n",
        "elif n == 2:\n",
        "  print(\"II\")\n",
        "elif n == 3:\n",
        "  print(\"III\")\n",
        "elif n == 4:\n",
        "  print(\"IV\")\n",
        "elif n == 5:\n",
        "  print(\"V\")\n",
        "elif n == 6:\n",
        "  print(\"VI\")\n",
        "elif n == 7:\n",
        "  print(\"VII\")\n",
        "elif n == 8:\n",
        "  print(\"VIII\")\n",
        "elif n == 9:\n",
        "  print(\"IX\")\n",
        "elif n == 10:\n",
        "  print(\"X\")\n",
        "else:\n",
        "  print(\"Numero fuera de rango\")"
      ]
    },
    {
      "cell_type": "code",
      "source": [
        "anch_1 = 2\n",
        "anch_2 = 3\n",
        "l_1 = 4\n",
        "l_2 = 5\n",
        "A_1 = (l_1 * anch_1)\n",
        "A_2 = (l_2 * anch_2)\n",
        "if A_1 > A_2:\n",
        "  print(\"El area del primero es mayor\")\n",
        "else:\n",
        "  print(\"El area del segundo es mayor\")"
      ],
      "metadata": {
        "colab": {
          "base_uri": "https://localhost:8080/"
        },
        "id": "CwYuekmUmgLG",
        "outputId": "38e6b1a4-24a4-46ed-b73b-f81c2bb89a44"
      },
      "execution_count": null,
      "outputs": [
        {
          "output_type": "stream",
          "name": "stdout",
          "text": [
            "El area del segundo es mayor\n"
          ]
        }
      ]
    },
    {
      "cell_type": "code",
      "source": [
        "m = float(input(\"Ingrese masa: \"))\n",
        "p = m * 9.8\n",
        "if p > 1000:\n",
        "  print(\"its to heavy\")\n",
        "elif p < 10:\n",
        "  print(\"its to light\")"
      ],
      "metadata": {
        "id": "0eyzlMgBtP2y",
        "outputId": "b4c547c4-176a-4de2-c515-1bcdd56afad3",
        "colab": {
          "base_uri": "https://localhost:8080/"
        }
      },
      "execution_count": 5,
      "outputs": [
        {
          "output_type": "stream",
          "name": "stdout",
          "text": [
            "Ingrese masa: 1\n",
            "its to light\n"
          ]
        }
      ]
    }
  ]
}