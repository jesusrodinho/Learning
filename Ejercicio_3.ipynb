{
  "nbformat": 4,
  "nbformat_minor": 0,
  "metadata": {
    "colab": {
      "provenance": [],
      "authorship_tag": "ABX9TyMGKzqviVHIpZI6mlP4Mrm+",
      "include_colab_link": true
    },
    "kernelspec": {
      "name": "python3",
      "display_name": "Python 3"
    },
    "language_info": {
      "name": "python"
    }
  },
  "cells": [
    {
      "cell_type": "markdown",
      "metadata": {
        "id": "view-in-github",
        "colab_type": "text"
      },
      "source": [
        "<a href=\"https://colab.research.google.com/github/jesusrodinho/Learning/blob/main/Ejercicio_3.ipynb\" target=\"_parent\"><img src=\"https://colab.research.google.com/assets/colab-badge.svg\" alt=\"Open In Colab\"/></a>"
      ]
    },
    {
      "cell_type": "code",
      "source": [
        "info_discurso = {}\n",
        "x = ['Mami ', 'Bebe ', 'Princess ', 'Mamasita ']\n",
        "y = ['yo quiero ', 'yo puedo ', 'yo vengo ', 'voy a ']\n",
        "z = ['encenderte ' , 'amarte ' , 'ligar ', 'jugar ']\n",
        "w = ['hasta que salga el sol ' , 'toda la noche ' , 'hasta el amanecer ', 'todo el dia ']\n",
        "f = ['sin anestesia ' , 'sin compromiso ' , 'feis to feis ','sin miedo ']\n",
        "info_discurso[\"x\"] = x\n",
        "info_discurso[\"y\"] = y\n",
        "info_discurso[\"z\"] = z\n",
        "info_discurso[\"w\"] = w\n",
        "info_discurso[\"f\"] = f\n",
        "\n",
        "def generador_frase_reguetton(data):\n",
        "  import random\n",
        "  code = ''\n",
        "  for key in data.keys():\n",
        "      code += str(random.choice(data[key]))\n",
        "  return code\n",
        "print(generador_frase_reguetton(info_discurso))"
      ],
      "metadata": {
        "colab": {
          "base_uri": "https://localhost:8080/"
        },
        "id": "J5u-pDHbltw0",
        "outputId": "57520b70-8404-45a1-837a-27e516820193"
      },
      "execution_count": 68,
      "outputs": [
        {
          "output_type": "stream",
          "name": "stdout",
          "text": [
            "Bebe yo puedo ligar todo el dia feis to feis \n"
          ]
        }
      ]
    }
  ]
}